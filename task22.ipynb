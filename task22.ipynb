{
 "cells": [
  {
   "cell_type": "code",
   "execution_count": 3,
   "metadata": {
    "collapsed": true
   },
   "outputs": [
    {
     "name": "stdout",
     "output_type": "stream",
     "text": [
      "147\n235121322681.0\n90.66666666666667\n('Bhutan', 100.0)\n('French Guiana', 1.0)\nUnited States\n0.794001043544\n"
     ]
    },
    {
     "ename": "TypeError",
     "evalue": "'dict' object is not callable",
     "traceback": [
      "\u001b[0;31m---------------------------------------------------------------------------\u001b[0m",
      "\u001b[0;31mTypeError\u001b[0m                                 Traceback (most recent call last)",
      "\u001b[0;32m<ipython-input-3-b3091d367744>\u001b[0m in \u001b[0;36m<module>\u001b[0;34m()\u001b[0m\n\u001b[1;32m     75\u001b[0m                   \u001b[1;34m'Australia'\u001b[0m\u001b[1;33m:\u001b[0m\u001b[1;34m'Australia'\u001b[0m\u001b[1;33m,\u001b[0m\u001b[1;33m\u001b[0m\u001b[0m\n\u001b[1;32m     76\u001b[0m                   'Brazil':'South America'}\n\u001b[0;32m---> 77\u001b[0;31m \u001b[0mdf\u001b[0m\u001b[1;33m[\u001b[0m\u001b[1;34m'Continent'\u001b[0m\u001b[1;33m]\u001b[0m \u001b[1;33m=\u001b[0m \u001b[0mdf\u001b[0m\u001b[1;33m.\u001b[0m\u001b[0mindex\u001b[0m\u001b[1;33m.\u001b[0m\u001b[0mmap\u001b[0m\u001b[1;33m(\u001b[0m\u001b[0mContinentDict\u001b[0m\u001b[1;33m)\u001b[0m\u001b[1;33m\u001b[0m\u001b[0m\n\u001b[0m\u001b[1;32m     78\u001b[0m \u001b[1;31m#df2 = df.groupby('Continent')['PopulationEst'].agg(['size', 'sum','mean','std'])\u001b[0m\u001b[1;33m\u001b[0m\u001b[1;33m\u001b[0m\u001b[0m\n\u001b[1;32m     79\u001b[0m \u001b[0mprint\u001b[0m\u001b[1;33m(\u001b[0m\u001b[0mdf2\u001b[0m\u001b[1;33m)\u001b[0m\u001b[1;33m\u001b[0m\u001b[0m\n",
      "\u001b[0;32mE:\\Anaconda3\\lib\\site-packages\\pandas\\indexes\\base.py\u001b[0m in \u001b[0;36mmap\u001b[0;34m(self, mapper)\u001b[0m\n\u001b[1;32m   2238\u001b[0m         \u001b[0mapplied\u001b[0m \u001b[1;33m:\u001b[0m \u001b[0marray\u001b[0m\u001b[1;33m\u001b[0m\u001b[0m\n\u001b[1;32m   2239\u001b[0m         \"\"\"\n\u001b[0;32m-> 2240\u001b[0;31m         \u001b[1;32mreturn\u001b[0m \u001b[0mself\u001b[0m\u001b[1;33m.\u001b[0m\u001b[0m_arrmap\u001b[0m\u001b[1;33m(\u001b[0m\u001b[0mself\u001b[0m\u001b[1;33m.\u001b[0m\u001b[0mvalues\u001b[0m\u001b[1;33m,\u001b[0m \u001b[0mmapper\u001b[0m\u001b[1;33m)\u001b[0m\u001b[1;33m\u001b[0m\u001b[0m\n\u001b[0m\u001b[1;32m   2241\u001b[0m \u001b[1;33m\u001b[0m\u001b[0m\n\u001b[1;32m   2242\u001b[0m     \u001b[1;32mdef\u001b[0m \u001b[0misin\u001b[0m\u001b[1;33m(\u001b[0m\u001b[0mself\u001b[0m\u001b[1;33m,\u001b[0m \u001b[0mvalues\u001b[0m\u001b[1;33m,\u001b[0m \u001b[0mlevel\u001b[0m\u001b[1;33m=\u001b[0m\u001b[1;32mNone\u001b[0m\u001b[1;33m)\u001b[0m\u001b[1;33m:\u001b[0m\u001b[1;33m\u001b[0m\u001b[0m\n",
      "\u001b[0;32mpandas\\src\\generated.pyx\u001b[0m in \u001b[0;36mpandas.algos.arrmap_int64 (pandas\\algos.c:94003)\u001b[0;34m()\u001b[0m\n",
      "\u001b[0;31mTypeError\u001b[0m: 'dict' object is not callable"
     ],
     "output_type": "error"
    }
   ],
   "source": [
    "import pandas as pd\n",
    "energy = pd.read_excel(\"E:\\Anaconda3\\Energy Indicators.xls\", header = 1, skiprows = 15, parse_cols= \"C:G\",\n",
    "                   na_values = \"...\", skip_footer=38, thousands=',')\n",
    "energy = energy[1:]\n",
    "energy.columns.values[0] = \"Country\"\n",
    "energy = energy.rename(columns={'Renewable Electricity Production': '% Renewable'})\n",
    "energy = energy.rename(columns={'Energy Supply per capita': 'Energy Supply per Capita'})\n",
    "energy['Country'].replace({\"\\(.*\\)\":\"\"}, regex=True, inplace=True)\n",
    "energy['Country'] = energy['Country'].map(lambda x: x.strip(''))\n",
    "energy['Country'].replace({\"[0-9]+\":\"\"}, regex=True, inplace=True)\n",
    "energy['Country'] = energy['Country'].map(lambda x: x.strip())\n",
    "energy.replace({\"Republic of Korea\": \"South Korea\"}, inplace=True)\n",
    "energy.replace({\"United States of America\": \"United States\"}, inplace=True)\n",
    "energy.replace({\"United Kingdom of Great Britain and Northern Ireland\": \"United Kingdom\"}, inplace=True)\n",
    "energy.replace({\"China, Hong Kong Special Administrative Region\": \"Hong Kong\"}, inplace=True)\n",
    "energy.set_index('Country', drop=False, inplace=True, verify_integrity=True)\n",
    "\n",
    "GDP = pd.read_csv('E:\\Anaconda3\\world_bank.csv', skiprows=4, thousands=',')\n",
    "GDP['Country Name'].replace({\"[0-9]+\":\"\"}, regex=True, inplace=True)\n",
    "\n",
    "GDP.replace({\"Korea, Rep.\": \"South Korea\"}, inplace=True)\n",
    "GDP.replace({\"Iran, Islamic Rep.\": \"Iran\"}, inplace=True)\n",
    "GDP.replace({\"Hong Kong SAR, China\": \"Hong Kong\"}, inplace=True)\n",
    "GDP.set_index('Country Name', drop=True, inplace=True, verify_integrity=True)\n",
    "\n",
    "ScimEn = pd.read_excel(\"E:\\Anaconda3\\scimagojr.xlsx\", header = 0,\n",
    "                   na_values = \"...\", thousands=',')\n",
    "df = pd.merge(energy, GDP, how='inner', left_index=True, right_index=True)\n",
    "df = pd.merge(ScimEn, df, how='inner', left_on='Country', right_index=True)\n",
    "df = df[['Rank', 'Documents', 'Citable documents', 'Citations', 'Self-citations',\n",
    "       'Citations per document', 'H index', 'Energy Supply',\n",
    "       'Energy Supply per Capita', '% Renewable', '2006', '2007', '2008',\n",
    "       '2009', '2010', '2011', '2012', '2013', '2014', '2015']]\n",
    "df.head()\n",
    "print(len(df) - len(df[df['Rank'] < 16]))\n",
    "\n",
    "df = df[df['Rank'] < 16]\n",
    "avgGDP = df[['2006', '2007', '2008', '2009', '2010', '2011', '2012', '2013', '2014', '2015']]\\\n",
    "    .mean(skipna=True, axis=1).sort_values(ascending=False)\n",
    "df['avg GDP'] = df[['2006', '2007', '2008', '2009', '2010', '2011', '2012', '2013', '2014', '2015']]\\\n",
    "    .mean(skipna=True, axis=1)\n",
    "df.sort_values('avg GDP',ascending=False, inplace=True)\n",
    "print(df.loc[5]['2015'] - df.loc[5]['2006'])\n",
    "print(energy['Energy Supply per Capita'].mean())\n",
    "energy.sort_values('% Renewable',ascending=False, inplace=True)\n",
    "print(((energy.iloc[0]).name, energy.iloc[0].get_value('% Renewable')))\n",
    "\n",
    "ScimEn['Ratio'] = ScimEn['Self-citations']/ScimEn['Citations']\n",
    "print((ScimEn.iloc[ScimEn['Ratio'].idxmax()]['Country'], ScimEn['Ratio'].max()))\n",
    "\n",
    "energy['Population'] = energy['Energy Supply']/energy['Energy Supply per Capita']\n",
    "energy.sort_values('Population',ascending=False, inplace=True)\n",
    "print(energy.iloc[2].get_value('Country'))\n",
    "\n",
    "df['Population'] = df['Energy Supply']/df['Energy Supply per Capita']\n",
    "df['Citable documents per person'] = df['Citable documents']/df['Population']\n",
    "print(df[['Citable documents per person', 'Energy Supply per Capita']]\n",
    "      .corr(method='pearson', min_periods=0)['Citable documents per person'][1])\n",
    "def is_high(x):\n",
    "    return 1 if (x >= df['% Renewable'].median()) else 0\n",
    "\n",
    "df['HighRenew'] = df['% Renewable'].apply(is_high)\n",
    "HighRenew = df[df['HighRenew'] > 0].sort_values('Rank',ascending=False)\n",
    "\n",
    "ContinentDict  = {'China':'Asia', \n",
    "                  'United States':'North America', \n",
    "                  'Japan':'Asia', \n",
    "                  'United Kingdom':'Europe', \n",
    "                  'Russian Federation':'Europe', \n",
    "                  'Canada':'North America', \n",
    "                  'Germany':'Europe', \n",
    "                  'India':'Asia',\n",
    "                  'France':'Europe', \n",
    "                  'South Korea':'Asia', \n",
    "                  'Italy':'Europe', \n",
    "                  'Spain':'Europe', \n",
    "                  'Iran':'Asia',\n",
    "                  'Australia':'Australia', \n",
    "                  'Brazil':'South America'}\n",
    "df['Continent'] = df.index.map(ContinentDict)\n",
    "df2 = df.groupby('Continent')['Population'].agg(['size', 'sum','mean','std'])\n",
    "print(df2)"
   ]
  },
  {
   "cell_type": "code",
   "execution_count": null,
   "metadata": {},
   "outputs": [],
   "source": [
    ""
   ]
  }
 ],
 "metadata": {
  "kernelspec": {
   "display_name": "Python 2",
   "language": "python",
   "name": "python2"
  },
  "language_info": {
   "codemirror_mode": {
    "name": "ipython",
    "version": 2.0
   },
   "file_extension": ".py",
   "mimetype": "text/x-python",
   "name": "python",
   "nbconvert_exporter": "python",
   "pygments_lexer": "ipython2",
   "version": "2.7.6"
  }
 },
 "nbformat": 4,
 "nbformat_minor": 0
}