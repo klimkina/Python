{
 "cells": [
  {
   "cell_type": "code",
   "execution_count": null,
   "metadata": {
    "collapsed": false
   },
   "outputs": [
    {
     "name": "stdout",
     "output_type": "stream",
     "text": [
      "147\n235121322681.0\n90.66666666666667\n('Bhutan', 100.0)\n('French Guiana', 1.0)\nUnited States\n0.794001043544\n"
     ]
    }
   ],
   "source": [
    "def answer_one():\n",
    "    \n",
    "    energy = pd.read_excel(\"Energy Indicators.xls\", header = 1, skiprows = 15, parse_cols= \"C:G\",\n",
    "                   na_values = \"...\", skip_footer=38, thousands=',')\n",
    "    energy = energy[1:]\n",
    "    energy.columns.values[0] = \"Country\"\n",
    "    energy = energy.rename(columns={'Renewable Electricity Production': '% Renewable'})\n",
    "    energy = energy.rename(columns={'Energy Supply per capita': 'Energy Supply per Capita'})\n",
    "    energy['Country'].replace({\"\\(.*\\)\":\"\"}, regex=True, inplace=True)\n",
    "    energy['Country'].replace({\"[0-9]+\":\"\"}, regex=True, inplace=True)\n",
    "    energy['Country'] = energy['Country'].map(lambda x: x.strip())\n",
    "    energy.replace({\"Republic of Korea\": \"South Korea\"}, inplace=True)\n",
    "    energy.replace({\"United States of America\": \"United States\"}, inplace=True)\n",
    "    energy.replace({\"United Kingdom of Great Britain and Northern Ireland\": \"United Kingdom\"}, inplace=True)\n",
    "    energy.replace({\"China, Hong Kong Special Administrative Region\": \"Hong Kong\"}, inplace=True)\n",
    "    energy.set_index('Country', drop=True, inplace=True, verify_integrity=True)\n",
    "\n",
    "    GDP = pd.read_csv('world_bank.csv', skiprows=4, thousands=',')\n",
    "    GDP['Country Name'].replace({\"[0-9]+\":\"\"}, regex=True, inplace=True)\n",
    "\n",
    "    GDP.replace({\"Korea, Rep.\": \"South Korea\"}, inplace=True)\n",
    "    GDP.replace({\"Iran, Islamic Rep.\": \"Iran\"}, inplace=True)\n",
    "    GDP.replace({\"Hong Kong SAR, China\": \"Hong Kong\"}, inplace=True)\n",
    "    GDP.set_index('Country Name', drop=True, inplace=True, verify_integrity=True)\n",
    "\n",
    "    ScimEn = pd.read_excel(\"scimagojr.xlsx\", header = 0,\n",
    "                   na_values = \"...\", thousands=',')\n",
    "    df = pd.merge(energy, GDP, how='inner', left_index=True, right_index=True)\n",
    "    df = pd.merge(ScimEn, df, how='inner', left_on='Country', right_index=True)\n",
    "    df = df[['Rank', 'Documents', 'Citable documents', 'Citations', 'Self-citations',\n",
    "       'Citations per document', 'H index', 'Energy Supply',\n",
    "       'Energy Supply per Capita', '% Renewable', '2006', '2007', '2008',\n",
    "       '2009', '2010', '2011', '2012', '2013', '2014', '2015']]\n",
    "    return df[df['Rank'] < 16]\n",
    "\n",
    "def answer_two():\n",
    "    return len(df)-len(df[df['Rank'] < 16])\n",
    "\n",
    "def answer_three():\n",
    "    df = df[df['Rank'] < 16]\n",
    "    avgGDP = df[['2006', '2007', '2008', '2009', '2010', '2011', '2012', '2013', '2014', '2015']].mean(skipna=True, axis=1).sort_values(ascending=False)\n",
    "    return avgGDP\n",
    "\n",
    "def answer_four():\n",
    "    df['avg GDP'] = df[['2006', '2007', '2008', '2009', '2010', '2011', '2012', '2013', '2014', '2015']].mean(skipna=True, axis=1)\n",
    "    df.sort_values('avg GDP',ascending=False, inplace=True)\n",
    "    return df.loc[5]['2015'] - df.loc[5]['2006']\n",
    "\n",
    "def answer_five():\n",
    "    return energy['Energy Supply per capita'].mean()\n",
    "\n",
    "def answer_six():\n",
    "    energy.sort_values('% Renewable',ascending=False, inplace=True)\n",
    "    return ((energy.iloc[0]).name, energy.iloc[0].get_value('% Renewable'))\n",
    "\n",
    "def answer_seven():\n",
    "    ScimEn['Ratio'] = ScimEn['Self-citations']/ScimEn['Citations']\n",
    "    return (ScimEn.iloc[ScimEn['Ratio'].idxmax()]['Country'], ScimEn['Ratio'].max())\n",
    "\n",
    "def answer_eight():\n",
    "    energy['Population'] = energy['Energy Supply']/energy['Energy Supply per Capita']\n",
    "    energy.sort_values('Population',ascending=False, inplace=True)\n",
    "    return energy.iloc[2].get_value('Country')\n",
    "\n",
    "def answer_nine():\n",
    "    df['Population'] = df['Energy Supply']/df['Energy Supply per Capita']\n",
    "    df['Citable documents per person'] = df['Citable documents']/df['Population']\n",
    "    return df[['Citable documents per person', 'Energy Supply per Capita']].corr(method='pearson', min_periods=0)['Citable documents per person'][1]"
   ]
  },
  {
   "cell_type": "code",
   "execution_count": null,
   "metadata": {},
   "outputs": [],
   "source": [
    ""
   ]
  }
 ],
 "metadata": {
  "kernelspec": {
   "display_name": "Python 2",
   "language": "python",
   "name": "python2"
  },
  "language_info": {
   "codemirror_mode": {
    "name": "ipython",
    "version": 2.0
   },
   "file_extension": ".py",
   "mimetype": "text/x-python",
   "name": "python",
   "nbconvert_exporter": "python",
   "pygments_lexer": "ipython2",
   "version": "2.7.6"
  }
 },
 "nbformat": 4,
 "nbformat_minor": 0
}